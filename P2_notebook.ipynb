{
 "cells": [
  {
   "cell_type": "markdown",
   "source": [
    "# 0. Préparation"
   ],
   "metadata": {
    "collapsed": false
   }
  },
  {
   "cell_type": "code",
   "execution_count": null,
   "outputs": [],
   "source": [
    "import json\n",
    "import math\n",
    "import matplotlib.pylab as plb\n",
    "import matplotlib.pyplot as plt\n",
    "import matplotlib\n",
    "import numpy as np\n",
    "import os\n",
    "import pandas as pd\n",
    "import statistics as stat\n",
    "import urllib.request\n",
    "\n",
    "from collections import Counter\n",
    "from difflib import SequenceMatcher\n",
    "from google.colab import drive\n",
    "from matplotlib.pyplot import figure\n",
    "from urllib.request import urlopen\n",
    "from zipfile import ZipFile"
   ],
   "metadata": {
    "collapsed": false,
    "pycharm": {
     "name": "#%%\n"
    }
   }
  },
  {
   "cell_type": "code",
   "execution_count": null,
   "outputs": [],
   "source": [
    "pd.set_option('display.max_rows', 500)\n",
    "pd.set_option('display.max_columns', 500)\n",
    "pd.set_option('display.width', 1000)"
   ],
   "metadata": {
    "collapsed": false,
    "pycharm": {
     "name": "#%%\n"
    }
   }
  },
  {
   "cell_type": "code",
   "execution_count": null,
   "outputs": [],
   "source": [
    "CHEMIN = 'drive/My Drive/Colab Notebooks/'"
   ],
   "metadata": {
    "collapsed": false,
    "pycharm": {
     "name": "#%%\n"
    }
   }
  },
  {
   "cell_type": "markdown",
   "source": [
    "\n",
    "# 1. Exploration du jeu de données\n",
    "\n",
    "\n",
    "\n"
   ],
   "metadata": {
    "collapsed": false
   }
  },
  {
   "cell_type": "markdown",
   "source": [
    "## 1.1 Enjeux"
   ],
   "metadata": {
    "collapsed": false
   }
  },
  {
   "cell_type": "markdown",
   "source": [
    "Une start-up de la EdTech propose des formations en ligne pour un public de niveau lycée et université."
   ],
   "metadata": {
    "collapsed": false
   }
  },
  {
   "cell_type": "markdown",
   "source": [
    "Cette start-up souhaite s'exporter à l'international :\n",
    "\n",
    "\n",
    "*   Quels sont les pays avec un fort potentiel de clients pour nos services ?\n",
    "*   Pour chacun de ces pays, quelle sera l'évolution de ce potentiel de clients ?\n",
    "*   Dans quels pays l'entreprise doit-elle opérer en priorité ?\n",
    "\n",
    "\n",
    "\n"
   ],
   "metadata": {
    "collapsed": false
   }
  },
  {
   "cell_type": "markdown",
   "source": [
    "## 1.2 Problématique"
   ],
   "metadata": {
    "collapsed": false
   }
  },
  {
   "cell_type": "markdown",
   "source": [
    "La start-up a repéré un jeu de données qui pourrait l'intéresser.\n",
    "La mission est de déterminer si ce jeu de données peut aider le projet d'expansion."
   ],
   "metadata": {
    "collapsed": false
   }
  },
  {
   "cell_type": "markdown",
   "source": [
    "## 1.3 Présentation du jeu de données"
   ],
   "metadata": {
    "collapsed": false
   }
  },
  {
   "cell_type": "markdown",
   "source": [
    "### 1.3.0 Préparation"
   ],
   "metadata": {
    "collapsed": false
   }
  },
  {
   "cell_type": "markdown",
   "source": [
    "Création des DataFrames"
   ],
   "metadata": {
    "collapsed": false
   }
  },
  {
   "cell_type": "code",
   "execution_count": null,
   "outputs": [],
   "source": [
    "df_names = ['EdStatsData.csv',\n",
    "            'EdStatsCountry.csv',\n",
    "            'EdStatsSeries.csv',\n",
    "            'EdStatsCountry-Series.csv',\n",
    "            'EdStatsFootNote.csv']\n",
    "df_list = [pd.read_csv(CHEMIN + element) for element in df_names]"
   ],
   "metadata": {
    "collapsed": false,
    "pycharm": {
     "name": "#%%\n"
    }
   }
  },
  {
   "cell_type": "markdown",
   "source": [
    "Affichage du nombre de lignes et de colonnes pour chaque DataFrame"
   ],
   "metadata": {
    "collapsed": false
   }
  },
  {
   "cell_type": "code",
   "execution_count": null,
   "outputs": [],
   "source": [
    "for i, df in enumerate(df_list):\n",
    "    temp_string = 'DataFrame \\'{}\\': {} lines, {} columns.'.format(df_names[i], df.shape[0], df.shape[1])\n",
    "    print(temp_string + '\\n')"
   ],
   "metadata": {
    "collapsed": false,
    "pycharm": {
     "name": "#%%\n"
    }
   }
  },
  {
   "cell_type": "markdown",
   "source": [
    "### 1.3.1 Fichier Data"
   ],
   "metadata": {
    "collapsed": false
   }
  },
  {
   "cell_type": "markdown",
   "source": [
    "Le fichier **EdStatsData** est le fichier le plus volumineux. Il contient, pour chaque pays, les valeurs des indicateurs par année. Le DataFrame contient 886930 lignes and 70 colonnes."
   ],
   "metadata": {
    "collapsed": false
   }
  },
  {
   "cell_type": "code",
   "execution_count": null,
   "outputs": [],
   "source": [
    "df_list[0].head()"
   ],
   "metadata": {
    "collapsed": false,
    "pycharm": {
     "name": "#%%\n"
    }
   }
  },
  {
   "cell_type": "markdown",
   "source": [
    "### 1.3.2 Fichier Country"
   ],
   "metadata": {
    "collapsed": false
   }
  },
  {
   "cell_type": "markdown",
   "source": [
    "Le fichier **EdStatsCountry** contient des informations générales sur les pays, leur niveau de richesse, les dates des dernières enquêtes, les catégories financières et politiques, … Il ne contient pas d’indicateur."
   ],
   "metadata": {
    "collapsed": false
   }
  },
  {
   "cell_type": "code",
   "execution_count": null,
   "outputs": [],
   "source": [
    "df_list[1].head()"
   ],
   "metadata": {
    "collapsed": false,
    "pycharm": {
     "name": "#%%\n"
    }
   }
  },
  {
   "cell_type": "markdown",
   "source": [
    "### 1.3.3 Fichier Series"
   ],
   "metadata": {
    "collapsed": false
   }
  },
  {
   "cell_type": "markdown",
   "source": [
    "Le fichier EdStatsSeries est le tableau des indicateurs, avec un certain nombre d'informations : déinition, unité de mesure, périodicité, méthode d'agrégation."
   ],
   "metadata": {
    "collapsed": false
   }
  },
  {
   "cell_type": "code",
   "execution_count": null,
   "outputs": [],
   "source": [
    "df_list[2].head()"
   ],
   "metadata": {
    "collapsed": false,
    "pycharm": {
     "name": "#%%\n"
    }
   }
  },
  {
   "cell_type": "code",
   "execution_count": null,
   "outputs": [],
   "source": [
    "df_series.dtypes"
   ],
   "metadata": {
    "collapsed": false,
    "pycharm": {
     "name": "#%%\n"
    }
   }
  },
  {
   "cell_type": "markdown",
   "source": [
    "### 1.3.4 Fichier Country-Series"
   ],
   "metadata": {
    "collapsed": false
   }
  },
  {
   "cell_type": "markdown",
   "source": [
    "Le fichier Country Series indique la source de calcul des indicateurs nationaux."
   ],
   "metadata": {
    "collapsed": false
   }
  },
  {
   "cell_type": "code",
   "execution_count": null,
   "outputs": [],
   "source": [
    "df_list[3].head()"
   ],
   "metadata": {
    "collapsed": false,
    "pycharm": {
     "name": "#%%\n"
    }
   }
  },
  {
   "cell_type": "markdown",
   "source": [
    "### 1.3.5 Fichier Footnote"
   ],
   "metadata": {
    "collapsed": false
   }
  },
  {
   "cell_type": "markdown",
   "source": [
    "Le fichier Footnote donne la méthode de collecte des indicateurs, selon l'année"
   ],
   "metadata": {
    "collapsed": false
   }
  },
  {
   "cell_type": "code",
   "execution_count": null,
   "outputs": [],
   "source": [
    "df_list[4].head()"
   ],
   "metadata": {
    "collapsed": false,
    "pycharm": {
     "name": "#%%\n"
    }
   }
  },
  {
   "cell_type": "markdown",
   "source": [
    "# 2. Analyse pré-exploratoire"
   ],
   "metadata": {
    "collapsed": false
   }
  },
  {
   "cell_type": "markdown",
   "source": [
    "## 2.1 Valider la qualité du jeu de données"
   ],
   "metadata": {
    "collapsed": false
   }
  },
  {
   "cell_type": "markdown",
   "source": [
    "### 2.1.0 Affichage des valeurs non nulles"
   ],
   "metadata": {
    "collapsed": false
   }
  },
  {
   "cell_type": "markdown",
   "source": [
    "Proportion des valeurs NaN dans chaque jeu de données"
   ],
   "metadata": {
    "collapsed": false
   }
  },
  {
   "cell_type": "code",
   "execution_count": null,
   "outputs": [],
   "source": [
    "def nan_proportion_piechart(df, df_name):\n",
    "    \"\"\"Piechart of the nan propotion in a dataframe\"\"\"\n",
    "    cells_nb = df.shape[0] * df.shape[1]\n",
    "    non_nan_total=0\n",
    "    for column in df.columns:\n",
    "        others += df[column].count()\n",
    "    nan_total = cells_nb - non_nan_total\n",
    "    values = [nan_total, non_nan_total]\n",
    "    indices = ['NaN values', ' Other values']\n",
    "    plt.title('{}, {} elements'.format(df_name, cells_nb))\n",
    "    plt.pie(values, labels=indices, colors=['red', 'green'])"
   ],
   "metadata": {
    "collapsed": false,
    "pycharm": {
     "name": "#%%\n"
    }
   }
  },
  {
   "cell_type": "code",
   "execution_count": null,
   "outputs": [],
   "source": [
    "for i, df in enumerate(df_list):\n",
    "    plt.figure(nan_proportion_piechart(df, df_list[i]))"
   ],
   "metadata": {
    "collapsed": false,
    "pycharm": {
     "name": "#%%\n"
    }
   }
  },
  {
   "cell_type": "markdown",
   "source": [
    "### 2.1.1 Fichier Data"
   ],
   "metadata": {
    "collapsed": false
   }
  },
  {
   "cell_type": "code",
   "execution_count": null,
   "outputs": [],
   "source": [
    "#Estimation du nombre de données non nulles par année\n",
    "def nan_values_evolution(df=df_list[0])\n",
    "    df_years = df.iloc[:, 4:-1]\n",
    "    values = [df_years[year].isna().sum()/ len(df_years[year]) for year in df_years.columns]\n",
    "    years = df_years.columns\n",
    "    plt.title('Proportion des valeurs NaN selon l\\'année')\n",
    "    plt.rcParams[\"figure.figsize\"] = (50,15)\n",
    "    plt.xticks(rotation=45)\n",
    "    plt.grid()\n",
    "    plt.plot(years, values, color='black')"
   ],
   "metadata": {
    "collapsed": false,
    "pycharm": {
     "name": "#%%\n"
    }
   }
  },
  {
   "cell_type": "markdown",
   "source": [
    "Le nombre de valeurs non nulles par année n'est pas constant, et révèle un tendance générale d'une part, et d'autre part des tendances spécifiques.\n",
    "\n",
    "\n",
    "\n",
    "*   La valeur moyenne de NaN est de 90% pour les années avant 2017, 95% pour les prévisions (2020 - 2100).\n",
    "*   La tendance générale montre une diminution des NaN de 1989 à 2015, puis une brusque augmentation.\n",
    "*   L'année la plus vide est 2017 (100% de valeurs NaN)\n",
    "*   L'année la plus remplie est 2010 (moins de 75% de NaN).\n",
    "*   Quelques pics sont bien visibles : de 1975 à 2010, tous les 5 ans, on remarque une diminution subite du nombre de NaN, autrement dit, un pic de données.\n",
    "*   On peut donc retenir 3 années pour lesquelles les NaN sont les moins nombreuses : 2000, 2005 et 2010."
   ],
   "metadata": {
    "collapsed": false
   }
  },
  {
   "cell_type": "markdown",
   "source": [
    "### 2.1.2 Fichier Country"
   ],
   "metadata": {
    "collapsed": false
   }
  },
  {
   "cell_type": "code",
   "execution_count": null,
   "outputs": [],
   "source": [
    "df_list[1].info()"
   ],
   "metadata": {
    "collapsed": false,
    "pycharm": {
     "name": "#%%\n"
    }
   }
  },
  {
   "cell_type": "markdown",
   "source": [
    "Estimation des valeurs NaN de la colonne Currency."
   ],
   "metadata": {
    "collapsed": false
   }
  },
  {
   "cell_type": "code",
   "execution_count": null,
   "outputs": [],
   "source": [
    "nb_countries = df_list[1]['Short Name'].count()\n",
    "nb_currencies = df_list[1]['Currency Unit'].count()\n",
    "print('Il y a {} valeurs de devises nulles pour {} pays.'.format(nb_countries - nb_currencies, nb_countries))"
   ],
   "metadata": {
    "collapsed": false,
    "pycharm": {
     "name": "#%%\n"
    }
   }
  },
  {
   "cell_type": "code",
   "execution_count": null,
   "outputs": [],
   "source": [
    "# Affichage des pays pour lesquels la devise est nulle\n",
    "df_list[1][df_list[1]['Currency Unit'].isnull()]['Short Name']"
   ],
   "metadata": {
    "collapsed": false,
    "pycharm": {
     "name": "#%%\n"
    }
   }
  },
  {
   "cell_type": "markdown",
   "source": [
    "Conclusion: les \"pays\" n'ayant pas de devise correspondent en réalité aux différentes régions du monde. Une exception cependant, Nauru (Nauru utilise pourtant les dollars australiens, d'après Wikipédia)."
   ],
   "metadata": {
    "collapsed": false
   }
  },
  {
   "cell_type": "markdown",
   "source": [
    "### 2.1.3 Fichier Series"
   ],
   "metadata": {
    "collapsed": false
   }
  },
  {
   "cell_type": "code",
   "execution_count": null,
   "outputs": [],
   "source": [
    "df_list[2].info()"
   ],
   "metadata": {
    "collapsed": false,
    "pycharm": {
     "name": "#%%\n"
    }
   }
  },
  {
   "cell_type": "markdown",
   "source": [
    "### 2.1.4 Fichier Country-Series"
   ],
   "metadata": {
    "collapsed": false
   }
  },
  {
   "cell_type": "code",
   "execution_count": null,
   "outputs": [],
   "source": [
    "df_list[3].info()"
   ],
   "metadata": {
    "collapsed": false,
    "pycharm": {
     "name": "#%%\n"
    }
   }
  },
  {
   "cell_type": "markdown",
   "source": [
    "Estimation des doublons les plus fréquents dans la colonne des indicateurs."
   ],
   "metadata": {
    "collapsed": false
   }
  },
  {
   "cell_type": "code",
   "execution_count": null,
   "outputs": [],
   "source": [
    "Counter(df_list[3]['SeriesCode'])"
   ],
   "metadata": {
    "collapsed": false,
    "pycharm": {
     "name": "#%%\n"
    }
   }
  },
  {
   "cell_type": "markdown",
   "source": [
    "Les indicateurs qui reviennent le plus souvent concernent la population et le taux de croissance : SP.POP.GROW et SP.POP.TOTL"
   ],
   "metadata": {
    "collapsed": false
   }
  },
  {
   "cell_type": "markdown",
   "source": [
    "Estimation des doublons les plus fréquents dans la colonne DESCRIPTION"
   ],
   "metadata": {
    "collapsed": false
   }
  },
  {
   "cell_type": "code",
   "execution_count": null,
   "outputs": [],
   "source": [
    "Counter(df_list[3]['DESCRIPTION']).most_common(10)"
   ],
   "metadata": {
    "collapsed": false,
    "pycharm": {
     "name": "#%%\n"
    }
   }
  },
  {
   "cell_type": "markdown",
   "source": [
    "La source principale semble être \"United Nations World Population Prospects\"."
   ],
   "metadata": {
    "collapsed": false
   }
  },
  {
   "cell_type": "markdown",
   "source": [
    "### 2.1.5 Fichier Footnote"
   ],
   "metadata": {
    "collapsed": false
   }
  },
  {
   "cell_type": "code",
   "execution_count": null,
   "outputs": [],
   "source": [
    "df_list[4].info()"
   ],
   "metadata": {
    "collapsed": false,
    "pycharm": {
     "name": "#%%\n"
    }
   }
  },
  {
   "cell_type": "markdown",
   "source": [
    "Estimation des doublons les plus fréquents de la colonne DESCRIPTION"
   ],
   "metadata": {
    "collapsed": false
   }
  },
  {
   "cell_type": "code",
   "execution_count": null,
   "outputs": [],
   "source": [
    "Counter(df_list[4]['DESCRIPTION']).most_common(10)"
   ],
   "metadata": {
    "collapsed": false,
    "pycharm": {
     "name": "#%%\n"
    }
   }
  },
  {
   "cell_type": "markdown",
   "source": [
    "Nombre d'indicateurs par date"
   ],
   "metadata": {
    "collapsed": false
   }
  },
  {
   "cell_type": "code",
   "execution_count": null,
   "outputs": [],
   "source": [
    "def indicators_evolution(df=df_list[4], year_column='Year'):\n",
    "    year_counter = sorted(Counter(df[year_column]).items())\n",
    "    x, y = zip(*year_counter)\n",
    "    plb.title('Nombre d\\'indicateurs par date dans Footnote')\n",
    "    plt.xticks(rotation=45)\n",
    "    plb.grid(color='grey', linestyle='-', linewidth=1)\n",
    "    plb.plot(x, y)\n",
    "\n",
    "indicators_evolution()"
   ],
   "metadata": {
    "collapsed": false,
    "pycharm": {
     "name": "#%%\n"
    }
   }
  },
  {
   "cell_type": "markdown",
   "source": [
    "Les indicateurs sont particulièrement nombreux entre les années 1998 et 2014."
   ],
   "metadata": {
    "collapsed": false
   }
  },
  {
   "cell_type": "markdown",
   "source": [
    "Dans l'analyse, il sera intéressant de se concentrer sur les années 1998 à 2014. Ce sont les années où la source de l'indicateur est connue."
   ],
   "metadata": {
    "collapsed": false
   }
  },
  {
   "cell_type": "markdown",
   "source": [
    "## 2.2 Sélection des indicateurs"
   ],
   "metadata": {
    "collapsed": false
   }
  },
  {
   "cell_type": "markdown",
   "source": [
    "Un rapide parcours des DataFrame m'a amené à classer les données qui nous intéressent selon les catégories ci-dessous :\n",
    "\n",
    "1.   Nos **clients** : leur âge, leur niveau d'étude, le taux de chômage, le taux de croissance, ...\n",
    "\n",
    "2.   Leur capacité à avoir **accès aux formations** : l'alphabétisation, l'accès à internet, ...\n",
    "\n",
    "3.   Leur **pouvoir d'achat** : pays pauvre, pays riche, ...\n",
    "\n",
    "4. Les **conditions** dans lesquelles la start-up va opérer : le système économique, les éventuelles aides internationales, la stabilité politique du pays, ...\n",
    "\n",
    "5. La **fiabilité** des données : l'ancienneté des enquêtes, recensement, ...\n"
   ],
   "metadata": {
    "collapsed": false
   }
  },
  {
   "cell_type": "markdown",
   "source": [
    "### 2.2.1 Repérage des indicateurs"
   ],
   "metadata": {
    "collapsed": false
   }
  },
  {
   "cell_type": "markdown",
   "source": [
    "Dans le fichier Series, balayer un par un les 3665 indicateurs est fatigant et vite décourageant.\n",
    "Après quelques recherches, on s'aperçoit que la colonne 'Topic' contient les **catégories** d'indicateurs, et ne contient que 37 valeurs. On va donc chercher dans un premier temps les catégories qui intéressantes, puis dans un deuxième temps les indicateurs intéressants."
   ],
   "metadata": {
    "collapsed": false
   }
  },
  {
   "cell_type": "markdown",
   "source": [
    "Un exemple de recherche ci-dessous"
   ],
   "metadata": {
    "collapsed": false
   }
  },
  {
   "cell_type": "code",
   "execution_count": null,
   "outputs": [],
   "source": [
    "# Lister les catégories d'indicateurs\n",
    "df_series['Topic'].unique()"
   ],
   "metadata": {
    "collapsed": false,
    "pycharm": {
     "name": "#%%\n"
    }
   }
  },
  {
   "cell_type": "code",
   "execution_count": null,
   "outputs": [],
   "source": [
    "df_series[df_series['Topic'] == 'Infrastructure: Communications']['Indicator Name'].unique()"
   ],
   "metadata": {
    "collapsed": false,
    "pycharm": {
     "name": "#%%\n"
    }
   }
  },
  {
   "cell_type": "markdown",
   "source": [
    "Dans le fichier Series"
   ],
   "metadata": {
    "collapsed": false
   }
  },
  {
   "cell_type": "code",
   "execution_count": null,
   "outputs": [],
   "source": [
    "series_indic_df = pd.DataFrame({'Catégorie': ['Clients',\n",
    "                                              'Clients',\n",
    "                                              'Clients',\n",
    "                                              'Clients',\n",
    "                                              'Clients',\n",
    "                                              'Clients',\n",
    "                                              'Accès aux formations',\n",
    "                                              'Accès aux formations',\n",
    "                                              'Accès aux formations',\n",
    "                                              'Accès aux formations'],\n",
    "                                'Indicateur': ['Population, ages 10-18, total',\n",
    "                                               'Population, ages 15-24, total',\n",
    "                                               'Gross enrolment ratio, primary to tertiary, gender parity index (GPI)',\n",
    "                                               'Enrolment in tertiary education per 100,000 inhabitants, both sexes',\n",
    "                                               'Unemployment, total (% of total labor force) (modeled ILO estimate)',\n",
    "                                               'Population growth (annual %)',\n",
    "                                               'Youth literacy rate, population 15-24 years, both sexes (%)',\n",
    "                                               'Personal computers (per 100 people)',\n",
    "                                               'Internet users (per 100 people)',\n",
    "                                               'Mortality rate, under-5 (per 1,000 live births)']})\n",
    "series_indic_df"
   ],
   "metadata": {
    "collapsed": false,
    "pycharm": {
     "name": "#%%\n"
    }
   }
  },
  {
   "cell_type": "markdown",
   "source": [
    "Dans le fichier Country"
   ],
   "metadata": {
    "collapsed": false
   }
  },
  {
   "cell_type": "code",
   "execution_count": null,
   "outputs": [],
   "source": [
    "country_indic_df = pd.DataFrame({'Catégorie': ['Pouvoir d\\'achat',\n",
    "                                               'Conditions d\\'activité',\n",
    "                                               'Conditions d\\'activité',\n",
    "                                               'Conditions d\\'activité',\n",
    "                                               'Conditions d\\'activité'],\n",
    "                                 'Indicateur': ['Income Group',\n",
    "                                                'System of trade',\n",
    "                                                'Lending category',\n",
    "                                                'System of National Accounts',\n",
    "                                                'Source of most recent Income and expenditure data']})\n",
    "country_indic_df"
   ],
   "metadata": {
    "collapsed": false,
    "pycharm": {
     "name": "#%%\n"
    }
   }
  },
  {
   "cell_type": "markdown",
   "source": [
    "Dans le fichier Series"
   ],
   "metadata": {
    "collapsed": false
   }
  },
  {
   "cell_type": "code",
   "execution_count": null,
   "outputs": [],
   "source": [
    "series_eval_df = pd.DataFrame({'Catégorie': ['Fiabilité des données',\n",
    "                                             'Fiabilité des données',\n",
    "                                             'Fiabilité des données',\n",
    "                                             'Fiabilité des données'],\n",
    "                               'Indicateur': ['Periodicity',\n",
    "                                              'Aggregation method',\n",
    "                                              'Development relevance',\n",
    "                                              'License Type']})\n",
    "series_eval_df"
   ],
   "metadata": {
    "collapsed": false,
    "pycharm": {
     "name": "#%%\n"
    }
   }
  },
  {
   "cell_type": "markdown",
   "source": [
    "Cette DataFrame ne permet pas d'évaluer directement les données que nous cherchons, mais d'évaluer la fiabilité des indicateurs du fichier Series, en donnant la période de collecte, la méthode d'agrégation, ..."
   ],
   "metadata": {
    "collapsed": false
   }
  },
  {
   "cell_type": "markdown",
   "source": [
    "Dans le fichier Country-Series"
   ],
   "metadata": {
    "collapsed": false
   }
  },
  {
   "cell_type": "code",
   "execution_count": null,
   "outputs": [],
   "source": [
    "country_series_eval_df = pd.DataFrame({'Catégorie': ['Fiabilité des données'],\n",
    "                                    'Indicateur': ['DESCRIPTION']})\n",
    "country_series_eval_df"
   ],
   "metadata": {
    "collapsed": false,
    "pycharm": {
     "name": "#%%\n"
    }
   }
  },
  {
   "cell_type": "markdown",
   "source": [
    "### 2.2.2 Evaluation de la fiabilité des indicateurs"
   ],
   "metadata": {
    "collapsed": false
   }
  },
  {
   "cell_type": "markdown",
   "source": [
    "Pour l'instant, nous avons juste repéré ces indicateurs car leur intitulé semblait utile, mais nous ne connaissons pas leur proportion de NaN, leur fiabilité, ..."
   ],
   "metadata": {
    "collapsed": false
   }
  },
  {
   "cell_type": "code",
   "execution_count": null,
   "outputs": [],
   "source": [
    "df_data.isnull().values.sum()"
   ],
   "metadata": {
    "collapsed": false,
    "pycharm": {
     "name": "#%%\n"
    }
   }
  },
  {
   "cell_type": "code",
   "execution_count": null,
   "outputs": [],
   "source": [
    "temp_list = []\n",
    "for indicator in series_indic_df['Indicateur']:\n",
    "    temp_df = df_data[df_data['Indicator Name'] == indicator]\n",
    "    temp_list.append(temp_df.isnull().values.sum() / (temp_df.shape[0] * temp_df.shape[1]))\n",
    "series_indic_df['Nan Proportion'] = temp_list\n",
    "series_indic_df.sort_values(by='Nan Proportion', ascending=False)"
   ],
   "metadata": {
    "collapsed": false,
    "pycharm": {
     "name": "#%%\n"
    }
   }
  },
  {
   "cell_type": "markdown",
   "source": [
    "Les indicateurs 'Unemployment, total (% of total labor force) ...' et 'Mortality rate, under-5 (per 1,000 live births)' ne sont pas utiles, nous pouvons les enlever de notre étude."
   ],
   "metadata": {
    "collapsed": false
   }
  },
  {
   "cell_type": "code",
   "execution_count": null,
   "outputs": [],
   "source": [
    "series_indic_df = pd.DataFrame({'Catégorie': ['Clients',\n",
    "                                              'Clients',\n",
    "                                              'Clients',\n",
    "                                              'Clients',\n",
    "                                              'Clients',\n",
    "                                              'Accès aux formations',\n",
    "                                              'Accès aux formations',\n",
    "                                              'Accès aux formations'],\n",
    "                                'Indicateur': ['Population, ages 10-18, total',\n",
    "                                               'Population, ages 15-24, total',\n",
    "                                               'Gross enrolment ratio, primary to tertiary, gender parity index (GPI)',\n",
    "                                               'Enrolment in tertiary education per 100,000 inhabitants, both sexes',\n",
    "                                               'Population growth (annual %)',\n",
    "                                               'Youth literacy rate, population 15-24 years, both sexes (%)',\n",
    "                                               'Personal computers (per 100 people)',\n",
    "                                               'Internet users (per 100 people)']})"
   ],
   "metadata": {
    "collapsed": false,
    "pycharm": {
     "name": "#%%\n"
    }
   }
  },
  {
   "cell_type": "markdown",
   "source": [
    "Evaluons la fiabilité des indicateurs du fichier Series, afin de rejeter éventuellement ceux qui seraient trop peu fiables."
   ],
   "metadata": {
    "collapsed": false
   }
  },
  {
   "cell_type": "markdown",
   "source": [
    "Création d'un DataFrame rassemblant les indicateurs et les méthodes utilisées pour les évaluer."
   ],
   "metadata": {
    "collapsed": false
   }
  },
  {
   "cell_type": "code",
   "execution_count": null,
   "outputs": [],
   "source": [
    "def evaluations_dataframe():\n",
    "    df_eval = pd.DataFrame({\"Catégorie\":[],\n",
    "                            \"Indicateur\":[],\n",
    "                            \"Evaluateur\":[],\n",
    "                            \"Valeur\":[]})\n",
    "    for indicator in series_indic_df['Indicateur']:\n",
    "        for evaluator in series_eval_df['Indicateur']:\n",
    "            # Ne récupérer que la valeur cherchée\n",
    "            temp_series = df_series[df_series['Indicator Name'] == indicator][evaluator]\n",
    "            for element in temp_series:\n",
    "                cat_series = series_indic_df[series_indic_df['Indicateur'] == indicator]['Catégorie']\n",
    "                temp_df = pd.DataFrame({\"Catégorie\":cat_series,\n",
    "                                        \"Indicateur\":[indicator],\n",
    "                                        \"Evaluateur\":[evaluator],\n",
    "                                        \"Valeur\":[element]})\n",
    "                df_eval = df_eval.append(temp_df)\n",
    "    return df_eval\n",
    "\n",
    "evaluations_dataframe().head(10)"
   ],
   "metadata": {
    "collapsed": false,
    "pycharm": {
     "name": "#%%\n"
    }
   }
  },
  {
   "cell_type": "markdown",
   "source": [
    "Aperçu des indicateurs pour lesquels l'évaluateur n'est pas un NaN."
   ],
   "metadata": {
    "collapsed": false
   }
  },
  {
   "cell_type": "code",
   "execution_count": null,
   "outputs": [],
   "source": [
    "df_eval[df_eval.Valeur.notnull()]"
   ],
   "metadata": {
    "collapsed": false,
    "pycharm": {
     "name": "#%%\n"
    }
   }
  },
  {
   "cell_type": "markdown",
   "source": [
    "Analyse : deux évaluateurs sont tout le temps vides, 'Development relevance' et 'License Type'. Nous ne pouvons pas nous en servir, nous les enlevons donc de la liste des évaluateurs."
   ],
   "metadata": {
    "collapsed": false
   }
  },
  {
   "cell_type": "code",
   "execution_count": null,
   "outputs": [],
   "source": [
    "series_eval = {'Fiabilité des données' : ['Periodicity',\n",
    "                                          'Aggregation method']}"
   ],
   "metadata": {
    "collapsed": false,
    "pycharm": {
     "name": "#%%\n"
    }
   }
  },
  {
   "cell_type": "markdown",
   "source": [
    "## 2.3 Ordre de grandeur des indicateurs statistiques"
   ],
   "metadata": {
    "collapsed": false
   }
  },
  {
   "cell_type": "markdown",
   "source": [
    "Définissons une fonction qui nous permette d'ordonner une liste des **pays** d'une **région** selon un **indicateur** donné."
   ],
   "metadata": {
    "collapsed": false
   }
  },
  {
   "cell_type": "code",
   "execution_count": null,
   "outputs": [],
   "source": [
    "def indic_per_country(region, indic, year):\n",
    "    temp_df = df_data.merge(df_country[['Country Code', 'Region']],\n",
    "                            left_on='Country Code',\n",
    "                            right_on='Country Code')\n",
    "    temp_df = temp_df[temp_df['Region'] == region]\n",
    "    temp_df = temp_df[temp_df['Indicator Name'] == indic]\n",
    "    temp_df = temp_df[['Country Name', year]]\n",
    "    temp_df = temp_df.sort_values(by=year, ascending=False)\n",
    "    return temp_df"
   ],
   "metadata": {
    "collapsed": false,
    "pycharm": {
     "name": "#%%\n"
    }
   }
  },
  {
   "cell_type": "markdown",
   "source": [
    "### 2.3.1 Nos clients"
   ],
   "metadata": {
    "collapsed": false
   }
  },
  {
   "cell_type": "markdown",
   "source": [
    "Cherchons les régions du monde satisfaisant le plus possible les indicateurs retenus."
   ],
   "metadata": {
    "collapsed": false
   }
  },
  {
   "cell_type": "code",
   "execution_count": null,
   "outputs": [],
   "source": [
    "def get_indics(country, year, category):\n",
    "    \"\"\"year must be a string\"\"\"\n",
    "    # Extraction des lignes contenant les indicateurs intéressants\n",
    "    temp_series = series_indic_df[series_indic_df['Catégorie'] == category]['Indicateur']\n",
    "    temp_df = df_data[df_data['Indicator Name'].isin(temp_series)]\n",
    "    temp_df = temp_df[['Country Name', 'Indicator Name', year]]\n",
    "    temp_df = temp_df[temp_df['Country Name'] == country]\n",
    "    temp_df = temp_df[temp_df[year].notnull()]\n",
    "    return temp_df"
   ],
   "metadata": {
    "collapsed": false,
    "pycharm": {
     "name": "#%%\n"
    }
   }
  },
  {
   "cell_type": "code",
   "execution_count": null,
   "outputs": [],
   "source": [
    "get_indics('Europe & Central Asia', '2010', 'Clients')"
   ],
   "metadata": {
    "collapsed": false,
    "pycharm": {
     "name": "#%%\n"
    }
   }
  },
  {
   "cell_type": "code",
   "execution_count": null,
   "outputs": [],
   "source": [
    "df_country['Region'].unique()"
   ],
   "metadata": {
    "collapsed": false,
    "pycharm": {
     "name": "#%%\n"
    }
   }
  },
  {
   "cell_type": "code",
   "execution_count": null,
   "outputs": [],
   "source": [
    "for indicateur in series_indic_df['Indicateur']:\n",
    "    print('-'*60)\n",
    "    print(indicateur)\n",
    "    print(indic_per_country('Europe & Central Asia', indicateur, '2010').head(10))"
   ],
   "metadata": {
    "collapsed": false,
    "pycharm": {
     "name": "#%%\n"
    }
   }
  },
  {
   "cell_type": "markdown",
   "source": [
    "Les indicateurs 'Youth literacy rate' et 'Personal computers (per 100 people)' contiennent trop de valeurs NaN. Enlevons-les de notre analyse.\n"
   ],
   "metadata": {
    "collapsed": false
   }
  },
  {
   "cell_type": "code",
   "execution_count": null,
   "outputs": [],
   "source": [
    "series_indic_df = pd.DataFrame({'Catégorie': ['Clients',\n",
    "                                              'Clients',\n",
    "                                              'Clients',\n",
    "                                              'Clients',\n",
    "                                              'Clients',\n",
    "                                              'Accès aux formations'],\n",
    "                                'Indicateur': ['Population, ages 10-18, total',\n",
    "                                               'Population, ages 15-24, total',\n",
    "                                               'Gross enrolment ratio, primary to tertiary, gender parity index (GPI)',\n",
    "                                               'Enrolment in tertiary education per 100,000 inhabitants, both sexes',\n",
    "                                               'Population growth (annual %)',\n",
    "                                               'Internet users (per 100 people)']})"
   ],
   "metadata": {
    "collapsed": false,
    "pycharm": {
     "name": "#%%\n"
    }
   }
  },
  {
   "cell_type": "markdown",
   "source": [
    "### 2.3.2 Leur capacité à avoir accès aux formations"
   ],
   "metadata": {
    "collapsed": false
   }
  },
  {
   "cell_type": "markdown",
   "source": [
    "Cherchons les régions du monde satisfaisant le plus possible les indicateurs retenus."
   ],
   "metadata": {
    "collapsed": false
   }
  },
  {
   "cell_type": "markdown",
   "source": [
    "Affichage des données accès aux formation par région du monde"
   ],
   "metadata": {
    "collapsed": false
   }
  },
  {
   "cell_type": "code",
   "execution_count": null,
   "outputs": [],
   "source": [
    "get_indics('Europe & Central Asia', '2014', 'Accès aux formations')\n"
   ],
   "metadata": {
    "collapsed": false,
    "pycharm": {
     "name": "#%%\n"
    }
   }
  },
  {
   "cell_type": "markdown",
   "source": [
    "### 2.3.3 Leur pouvoir d'achat"
   ],
   "metadata": {
    "collapsed": false
   }
  },
  {
   "cell_type": "markdown",
   "source": [
    "Les deux chapitres 3.3 à 3.5 fournissent des indicateurs par pays, selon le pouvoir d'achat et les conditions d'activité de la start-up. Ils permettront de départager deux pays ou deux régions si le choix se pose."
   ],
   "metadata": {
    "collapsed": false
   }
  },
  {
   "cell_type": "markdown",
   "source": [
    "Pondérisation des niveaux de richesse"
   ],
   "metadata": {
    "collapsed": false
   }
  },
  {
   "cell_type": "code",
   "execution_count": null,
   "outputs": [],
   "source": [
    "df_income = pd.DataFrame({'Income Group': ['High income: OECD',\n",
    "                                           'High income: nonOECD',\n",
    "                                           'Upper middle income',\n",
    "                                           'Lower middle income',\n",
    "                                           'Low income'],\n",
    "                          'Income Group ponderation': [5,\n",
    "                                                       4,\n",
    "                                                       3,\n",
    "                                                       2,\n",
    "                                                       1]})\n",
    "df_income.sort_values(by='Income Group ponderation', ascending=False)"
   ],
   "metadata": {
    "collapsed": false,
    "pycharm": {
     "name": "#%%\n"
    }
   }
  },
  {
   "cell_type": "markdown",
   "source": [
    "### 2.3.4 Les conditions d'activité"
   ],
   "metadata": {
    "collapsed": false
   }
  },
  {
   "cell_type": "markdown",
   "source": [
    "Les deux chapitres 3.3 à 3.5 fournissent des indicateurs par pays, selon le pouvoir d'achat et les conditions d'activité de la start-up. Ils permettront de départager deux pays ou deux régions si le choix se pose."
   ],
   "metadata": {
    "collapsed": false
   }
  },
  {
   "cell_type": "markdown",
   "source": [
    "Cherchons les régions du monde satisfaisant le plus possible les conditions retenus."
   ],
   "metadata": {
    "collapsed": false
   }
  },
  {
   "cell_type": "markdown",
   "source": [
    "Pondérisation des conditions"
   ],
   "metadata": {
    "collapsed": false
   }
  },
  {
   "cell_type": "code",
   "execution_count": null,
   "outputs": [],
   "source": [
    "df_lending_categories = pd.DataFrame({'Lending category': ['Blend', 'IDA', 'IBRD'],\n",
    "                                      'Lending category ponderation':[0.1, 0.2, 0.5]})\n",
    "df_lending_categories.sort_values(by='Lending category ponderation', ascending=False)"
   ],
   "metadata": {
    "collapsed": false,
    "pycharm": {
     "name": "#%%\n"
    }
   }
  },
  {
   "cell_type": "code",
   "execution_count": null,
   "outputs": [],
   "source": [
    "df_national_accounts = pd.DataFrame(\n",
    "    {'System of National Accounts': ['Country uses the 1968 System of National Accounts methodology.',\n",
    "                                     'Country uses the 1993 System of National Accounts methodology.',\n",
    "                                     'Country uses the 2008 System of National Accounts methodology.'],\n",
    "     'System of National Accounts ponderation': [1, 2, 3]})\n",
    "df_national_accounts.sort_values(by='System of National Accounts ponderation', ascending=False)"
   ],
   "metadata": {
    "collapsed": false,
    "pycharm": {
     "name": "#%%\n"
    }
   }
  },
  {
   "cell_type": "code",
   "execution_count": null,
   "outputs": [],
   "source": [
    "df_trade_system = pd.DataFrame({'System of trade':['Special trade system', 'General trade system', 'Other'],\n",
    "                                'System of trade ponderation': [1, 2, 0]})\n",
    "df_trade_system.sort_values(by='System of trade ponderation', ascending=False)"
   ],
   "metadata": {
    "collapsed": false,
    "pycharm": {
     "name": "#%%\n"
    }
   }
  },
  {
   "cell_type": "markdown",
   "source": [
    "L'indicateur 'Source of most recent Income and expenditure data' n'a pas été pris en compte car il contient trop de valeurs uniques. On pourrait néanmoins utiliser les dates, mais leur traitement demandera un peu de temps. -> A faire si le reste de l'analyse est terminé."
   ],
   "metadata": {
    "collapsed": false
   }
  },
  {
   "cell_type": "markdown",
   "source": [
    "### 2.3.5 Graphiques"
   ],
   "metadata": {
    "collapsed": false
   }
  },
  {
   "cell_type": "markdown",
   "source": [
    "Définissons une fonction qui nous permette d'ordonner une liste des **indicateurs** par **région**."
   ],
   "metadata": {
    "collapsed": false
   }
  },
  {
   "cell_type": "code",
   "execution_count": null,
   "outputs": [],
   "source": [
    "for element in series_indic_df['Indicateur']:\n",
    "    print(element)"
   ],
   "metadata": {
    "collapsed": false,
    "pycharm": {
     "name": "#%%\n"
    }
   }
  },
  {
   "cell_type": "code",
   "execution_count": null,
   "outputs": [],
   "source": [
    "def indic_per_region(indic):\n",
    "    df = df_data[df_data['Indicator Name'] == indic]\n",
    "    df = df[df['Country Name'].isin(df_country['Region'].unique())]\n",
    "    df = df[['Country Name', 'Indicator Name', '2020', '2025', '2030']]\n",
    "    df = df.sort_values(by='2030', ascending=False)\n",
    "    for region in df['Country Name']:\n",
    "        x = ['2020', '2025', '2030']\n",
    "        y = [df[df['Country Name']==region]['2020'],\n",
    "             df[df['Country Name']==region]['2025'],\n",
    "             df[df['Country Name']==region]['2030']]\n",
    "        y = [float(element) for element in y]\n",
    "        plt.grid(b=True)\n",
    "        plt.plot(x, y, marker=\"o\", markersize=12, label=region)\n",
    "        plt.text(2.2, y[-2], region, fontsize=30)\n",
    "    plt.rcParams[\"figure.figsize\"] = (20,15)\n",
    "    plt.show()\n",
    "    return df, y"
   ],
   "metadata": {
    "collapsed": false,
    "pycharm": {
     "name": "#%%\n"
    }
   }
  },
  {
   "cell_type": "code",
   "execution_count": null,
   "outputs": [],
   "source": [
    "for element in series_indic_df['Indicateur']:\n",
    "    print(element)"
   ],
   "metadata": {
    "collapsed": false,
    "pycharm": {
     "name": "#%%\n"
    }
   }
  },
  {
   "cell_type": "code",
   "execution_count": null,
   "outputs": [],
   "source": [
    "df_notnull = df_data[pd.notnull(df_data['2020'])]\n",
    "df_filtered = df_notnull[['Country Name', 'Indicator Name', '2020']]\n",
    "unique_indicators = df_filtered['Indicator Name'].unique()"
   ],
   "metadata": {
    "collapsed": false,
    "pycharm": {
     "name": "#%%\n"
    }
   }
  },
  {
   "cell_type": "code",
   "execution_count": null,
   "outputs": [],
   "source": [
    "def indic_per_region_highincome(indic_):\n",
    "    df_data = df_data[df_data['Income Group']=='High Income']\n",
    "    return indic_per_region(indic_)"
   ],
   "metadata": {
    "collapsed": false,
    "pycharm": {
     "name": "#%%\n"
    }
   }
  },
  {
   "cell_type": "markdown",
   "source": [
    "# 3. Conclusions"
   ],
   "metadata": {
    "collapsed": false
   }
  },
  {
   "cell_type": "markdown",
   "source": [
    "## 3.1 Réponse aux enjeux"
   ],
   "metadata": {
    "collapsed": false
   }
  },
  {
   "cell_type": "markdown",
   "source": [
    "## 3.2 Réponse à la problématique"
   ],
   "metadata": {
    "collapsed": false
   }
  },
  {
   "cell_type": "markdown",
   "source": [
    "Parmi les indicateurs identifiés au début de la pré-analyse comme pouvant potentiellement nous aider, certains sont soit remplis de valeurs NaN, soit avec uun nombre significatif de valeurs NaN. Nous les listons ci-dessous pour ne pas oublier qu'ils manqueront à l'analyse.\n",
    "\n",
    "*   Gross enrolment ratio, primary to tertiary, gender parity index (GPI)\n",
    "*   Enrolment in tertiary education per 100,000 inhabitants, both sexes\n",
    "*   Unemployment, total (% of total labor force) (modeled ILO estimate)\n",
    "*   Youth literacy rate, population 15-24 years, both sexes (%)\n",
    "*   Personal computers (per 100 people)\n",
    "*   Mortality rate, under-5 (per 1,000 live births)\n",
    "\n",
    "\n",
    "\n",
    "\n",
    "\n",
    "\n",
    "\n"
   ],
   "metadata": {
    "collapsed": false
   }
  },
  {
   "cell_type": "markdown",
   "source": [
    "Cela nous laisse les indicateurs suivants, en leur ajoutant un poids pour chacun :"
   ],
   "metadata": {
    "collapsed": false
   }
  },
  {
   "cell_type": "code",
   "execution_count": null,
   "outputs": [],
   "source": [
    "series_indic_list = {'Clients': ['Population, ages 10-18, total',\n",
    "                                 'Population, ages 15-24, total',\n",
    "                                 'Population growth (annual %)'],\n",
    "                     'Accès aux formations': ['Internet users (per 100 people)']}\n",
    "# C'est-à-dire, en utilisant cette fois-ci un DataFrame :\n",
    "df_series_indic = pd.DataFrame({'Catégorie' : ['Clients',\n",
    "                                               'Clients',\n",
    "                                               'Clients',\n",
    "                                               'Accès aux formations'],\n",
    "                                'Indicateur': ['Population, ages 10-18, total',\n",
    "                                               'Population, ages 15-24, total',\n",
    "                                               'Population growth (annual %)',\n",
    "                                               'Internet users (per 100 people)'],\n",
    "                                'Ponderation': [2, 3, 4, 1]})\n",
    "df_series_indic.sort_values(by='Ponderation', ascending=False)"
   ],
   "metadata": {
    "collapsed": false,
    "pycharm": {
     "name": "#%%\n"
    }
   }
  },
  {
   "cell_type": "markdown",
   "source": [
    "Concernant les évaluateurs, nous avions vu que certains étaient inutilisables. Cela nous laisse les évaluateurs suivants :"
   ],
   "metadata": {
    "collapsed": false
   }
  },
  {
   "cell_type": "code",
   "execution_count": null,
   "outputs": [],
   "source": [
    "series_eval = {'Fiabilité des données' : ['Periodicity',\n",
    "                                          'Aggregation method']}\n",
    "df_series_eval = pd.DataFrame({'Catégorie': ['Fiabilité des données',\n",
    "                                             'Fiabilité des données'],\n",
    "                               'Evaluateur': ['Periodicity',\n",
    "                                              'Aggregation method'],\n",
    "                               'Ponderation': [1, 2]})\n",
    "df_series_eval.sort_values(by='Ponderation', ascending=False)"
   ],
   "metadata": {
    "collapsed": false,
    "pycharm": {
     "name": "#%%\n"
    }
   }
  }
 ],
 "metadata": {
  "kernelspec": {
   "display_name": "Python 3",
   "language": "python",
   "name": "python3"
  },
  "language_info": {
   "codemirror_mode": {
    "name": "ipython",
    "version": 2
   },
   "file_extension": ".py",
   "mimetype": "text/x-python",
   "name": "python",
   "nbconvert_exporter": "python",
   "pygments_lexer": "ipython2",
   "version": "2.7.6"
  }
 },
 "nbformat": 4,
 "nbformat_minor": 0
}